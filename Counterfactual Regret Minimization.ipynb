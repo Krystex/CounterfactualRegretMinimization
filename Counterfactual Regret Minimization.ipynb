{
 "cells": [
  {
   "cell_type": "code",
   "execution_count": 1,
   "metadata": {},
   "outputs": [],
   "source": [
    "import numpy as np\n",
    "import matplotlib.pyplot as plt\n",
    "import random\n",
    "import seaborn as sns\n",
    "sns.set()\n",
    "\n",
    "%matplotlib inline\n",
    "%config InlineBackend.figure_format=\"retina\""
   ]
  },
  {
   "cell_type": "code",
   "execution_count": 2,
   "metadata": {},
   "outputs": [],
   "source": [
    "np.set_printoptions(suppress=True)"
   ]
  },
  {
   "cell_type": "markdown",
   "metadata": {},
   "source": [
    "Based on *An Introduction to Counterfactual Regret Minimization* (Neller, Lanctot)\n",
    "\n",
    "- `0`: no reward\n",
    "- `1`: positive reward\n",
    "- `-1`: negative reward"
   ]
  },
  {
   "cell_type": "code",
   "execution_count": 3,
   "metadata": {},
   "outputs": [],
   "source": [
    "# Actions\n",
    "ROCK, PAPER, SCISSORS = 0, 1, 2\n",
    "num_actions = 3\n",
    "\n",
    "# Stategy\n",
    "opp_strategy = [0.4, 0.3, 0.3]\n",
    "\n",
    "# Normal form (Payoff)\n",
    "payoff = np.array([\n",
    "    [[ 0,  0], [-1,  0], [ 1, -1]],\n",
    "    [[ 1, -1], [ 0,  0], [-1,  1]],\n",
    "    [[-1,  1], [ 1, -1], [ 0,  0]],\n",
    "], dtype=float)\n",
    "\n",
    "def value(x, y):\n",
    "    return payoff[x, y, 0]"
   ]
  },
  {
   "cell_type": "code",
   "execution_count": 4,
   "metadata": {},
   "outputs": [
    {
     "name": "stdout",
     "output_type": "stream",
     "text": [
      "Rock vs Rock    : 0.0\n",
      "Paper vs Rock   : 1.0\n",
      "Scissors vs Rock: -1.0\n"
     ]
    }
   ],
   "source": [
    "# Examples\n",
    "print(\"Rock vs Rock    :\", value(ROCK, ROCK))\n",
    "print(\"Paper vs Rock   :\", value(PAPER, ROCK))\n",
    "print(\"Scissors vs Rock:\", value(SCISSORS, ROCK))"
   ]
  },
  {
   "cell_type": "code",
   "execution_count": 20,
   "metadata": {},
   "outputs": [],
   "source": [
    "def normalize(strategy):\n",
    "    normalizing_sum = np.sum(strategy)\n",
    "    if normalizing_sum > 0:\n",
    "        return strategy / normalizing_sum\n",
    "    else:\n",
    "        return np.ones(strategy.shape[0]) / strategy.shape[0]\n",
    "\n",
    "def get_strategy(regret_sum):\n",
    "    # remove negative regrets\n",
    "    return normalize(np.maximum(regret_sum, 0))\n",
    "\n",
    "def avg_strategy(strategy_sum):\n",
    "    return normalize(strategy_sum)\n",
    "    #x = (regret_sum - np.min(regret_sum)) / (np.max(regret_sum) - np.min(regret_sum))\n",
    "    #return x / sum(x)\n",
    "\n",
    "def get_action(strategy):\n",
    "    strategy = strategy / np.sum(strategy)\n",
    "    return np.searchsorted(np.cumsum(strategy), random.random())"
   ]
  },
  {
   "cell_type": "code",
   "execution_count": 21,
   "metadata": {},
   "outputs": [
    {
     "name": "stdout",
     "output_type": "stream",
     "text": [
      "Best strategy: [0.00008983 0.99957457 0.00033561]\n"
     ]
    }
   ],
   "source": [
    "# Training one player\n",
    "opp_strategy   = [0.4, 0.3, 0.3]\n",
    "regret_sum     = np.zeros(num_actions, dtype=float)\n",
    "strategy_sum   = np.zeros(num_actions, dtype=float)\n",
    "random.seed(1)\n",
    "for _ in range(100_000):\n",
    "    # Get regret-matched mixed-strategy actions\n",
    "    strategy = get_strategy(regret_sum)\n",
    "    strategy_sum += strategy\n",
    "    \n",
    "    # Play game\n",
    "    my_action  = get_action(strategy)\n",
    "    opp_action = get_action(opp_strategy)\n",
    "    \n",
    "    # Compute action utilities (for rock paper scissors)\n",
    "    action_utility = payoff[:, opp_action, 0]\n",
    "    \n",
    "    # Accumulate action regrets\n",
    "    regret_sum += action_utility - action_utility[my_action]\n",
    "\n",
    "print(\"Best strategy:\", avg_strategy(strategy_sum))"
   ]
  },
  {
   "cell_type": "code",
   "execution_count": null,
   "metadata": {},
   "outputs": [],
   "source": []
  },
  {
   "cell_type": "markdown",
   "metadata": {},
   "source": [
    "### Exercise: RPS Equilibrium"
   ]
  },
  {
   "cell_type": "code",
   "execution_count": 27,
   "metadata": {},
   "outputs": [
    {
     "name": "stdout",
     "output_type": "stream",
     "text": [
      "Best strategy for P1:  [0.335 0.333 0.332]\n",
      "Best strategy for P1:  [0.331 0.334 0.334]\n"
     ]
    }
   ],
   "source": [
    "# Training two players \n",
    "regret_sum_p1   = np.zeros(num_actions)\n",
    "regret_sum_p2   = np.zeros(num_actions)\n",
    "strategy_sum_p1 = np.zeros(num_actions)\n",
    "strategy_sum_p2 = np.zeros(num_actions)\n",
    "\n",
    "random.seed(None)\n",
    "for _ in range(100_000):\n",
    "    # Get regret-matched mixed strategy actions\n",
    "    strategy_p1 = get_strategy(regret_sum_p1)\n",
    "    strategy_p2 = get_strategy(regret_sum_p2)\n",
    "    strategy_sum_p1 += strategy_p1\n",
    "    strategy_sum_p2 += strategy_p2\n",
    "    \n",
    "    # Play game according to strategy\n",
    "    action_p1 = get_action(strategy_p1)\n",
    "    action_p2 = get_action(strategy_p2)\n",
    "    \n",
    "    # Compute action utility\n",
    "    action_utility_p1 = payoff[:, action_p1, 0]\n",
    "    action_utility_p2 = payoff[action_p2, :, 0]\n",
    "    regret_sum_p1 += action_utility_p1 - action_utility_p1[action_p1]\n",
    "    regret_sum_p2 += action_utility_p2 - action_utility_p2[action_p2]\n",
    "print(\"Best strategy for P1: \", np.round(avg_strategy(strategy_sum_p1), 3))\n",
    "print(\"Best strategy for P1: \", np.round(avg_strategy(strategy_sum_p2), 3))"
   ]
  },
  {
   "cell_type": "markdown",
   "metadata": {},
   "source": [
    "--> converges to *Nash Equilibrium*"
   ]
  },
  {
   "cell_type": "code",
   "execution_count": null,
   "metadata": {},
   "outputs": [],
   "source": []
  }
 ],
 "metadata": {
  "kernelspec": {
   "display_name": "Python 3",
   "language": "python",
   "name": "python3"
  },
  "language_info": {
   "codemirror_mode": {
    "name": "ipython",
    "version": 3
   },
   "file_extension": ".py",
   "mimetype": "text/x-python",
   "name": "python",
   "nbconvert_exporter": "python",
   "pygments_lexer": "ipython3",
   "version": "3.8.12"
  }
 },
 "nbformat": 4,
 "nbformat_minor": 4
}
