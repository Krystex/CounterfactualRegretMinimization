{
 "cells": [
  {
   "cell_type": "code",
   "execution_count": 1,
   "metadata": {},
   "outputs": [],
   "source": [
    "import numpy as np\n",
    "import matplotlib.pyplot as plt\n",
    "import random\n",
    "import seaborn as sns\n",
    "sns.set()\n",
    "\n",
    "%matplotlib inline\n",
    "%config InlineBackend.figure_format=\"retina\""
   ]
  },
  {
   "cell_type": "code",
   "execution_count": 27,
   "metadata": {},
   "outputs": [],
   "source": [
    "np.set_printoptions(suppress=True)"
   ]
  },
  {
   "cell_type": "markdown",
   "metadata": {},
   "source": [
    "Based on *An Introduction to Counterfactual Regret Minimization* (Neller, Lanctot)\n",
    "\n",
    "- `0`: no reward\n",
    "- `1`: positive reward\n",
    "- `-1`: negative reward"
   ]
  },
  {
   "cell_type": "code",
   "execution_count": 36,
   "metadata": {},
   "outputs": [],
   "source": [
    "# Actions\n",
    "ROCK, PAPER, SCISSORS = 0, 1, 2\n",
    "num_actions = 3\n",
    "\n",
    "# Stategy\n",
    "opp_strategy = [0.4, 0.3, 0.3]\n",
    "\n",
    "# Normal form (Payoff)\n",
    "payoff = np.array([\n",
    "    [[ 0,  0], [-1,  0], [ 1, -1]],\n",
    "    [[ 1, -1], [ 0,  0], [-1,  1]],\n",
    "    [[-1,  1], [ 1, -1], [ 0,  0]],\n",
    "])\n",
    "\n",
    "def value(x, y):\n",
    "    return payoff[x, y, 0]"
   ]
  },
  {
   "cell_type": "code",
   "execution_count": 34,
   "metadata": {},
   "outputs": [
    {
     "name": "stdout",
     "output_type": "stream",
     "text": [
      "Rock vs Rock    : 0\n",
      "Paper vs Rock   : 1\n",
      "Scissors vs Rock: -1\n"
     ]
    }
   ],
   "source": [
    "# Examples\n",
    "print(\"Rock vs Rock    :\", value(ROCK, ROCK))\n",
    "print(\"Paper vs Rock   :\", value(PAPER, ROCK))\n",
    "print(\"Scissors vs Rock:\", value(SCISSORS, ROCK))"
   ]
  },
  {
   "cell_type": "code",
   "execution_count": 3,
   "metadata": {},
   "outputs": [],
   "source": [
    "def normalize(strategy):\n",
    "    normalizing_sum = np.sum(strategy)\n",
    "    if normalizing_sum > 0:\n",
    "        return strategy / normalizing_sum\n",
    "    else:\n",
    "        return np.ones(strategy.shape[0]) / strategy.shape[0]\n",
    "\n",
    "def get_strategy(regret_sum):\n",
    "    # remove negative regrets\n",
    "    strategy = np.maximum(regret_sum, 0)\n",
    "    return normalize(strategy)\n",
    "\n",
    "def avg_strategy(strategy_sum):\n",
    "    return normalize(strategy)\n",
    "\n",
    "def get_action(strategy):\n",
    "    strategy = strategy / np.sum(strategy)\n",
    "    return np.searchsorted(np.cumsum(strategy), random.random())"
   ]
  },
  {
   "cell_type": "code",
   "execution_count": 35,
   "metadata": {},
   "outputs": [
    {
     "data": {
      "text/plain": [
       "array([1., 0., 0.])"
      ]
     },
     "execution_count": 35,
     "metadata": {},
     "output_type": "execute_result"
    }
   ],
   "source": [
    "# Training one player\n",
    "action_utility = np.zeros(num_actions, dtype=float)\n",
    "regret_sum     = np.zeros(num_actions, dtype=float)\n",
    "strategy_sum   = np.zeros(num_actions, dtype=float)\n",
    "random.seed(None)\n",
    "for _ in range(100_000):\n",
    "    # Get regret-matched mixed-strategy actions\n",
    "    strategy = get_strategy(regret_sum)\n",
    "    strategy_sum += strategy\n",
    "    \n",
    "    # Play game\n",
    "    my_action  = get_action(strategy)\n",
    "    opp_action = get_action(opp_strategy)\n",
    "    \n",
    "    # Compute action utilities (for rock paper scissors)\n",
    "    action_utility = payoff[:, opp_action, 0]\n",
    "    \n",
    "    # Accumulate action regrets\n",
    "    regret_sum += action_utility - action_utility[my_action]\n",
    "avg_strategy(regret_sum)"
   ]
  },
  {
   "cell_type": "code",
   "execution_count": null,
   "metadata": {},
   "outputs": [],
   "source": []
  }
 ],
 "metadata": {
  "kernelspec": {
   "display_name": "Python 3",
   "language": "python",
   "name": "python3"
  },
  "language_info": {
   "codemirror_mode": {
    "name": "ipython",
    "version": 3
   },
   "file_extension": ".py",
   "mimetype": "text/x-python",
   "name": "python",
   "nbconvert_exporter": "python",
   "pygments_lexer": "ipython3",
   "version": "3.8.12"
  }
 },
 "nbformat": 4,
 "nbformat_minor": 4
}
